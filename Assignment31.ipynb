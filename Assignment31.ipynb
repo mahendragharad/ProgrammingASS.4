{
  "nbformat": 4,
  "nbformat_minor": 0,
  "metadata": {
    "colab": {
      "provenance": []
    },
    "kernelspec": {
      "name": "python3",
      "display_name": "Python 3"
    },
    "language_info": {
      "name": "python"
    }
  },
  "cells": [
    {
      "cell_type": "markdown",
      "source": [
        "#####**Assignment No.4**"
      ],
      "metadata": {
        "id": "_pHddNssR__P"
      }
    },
    {
      "cell_type": "markdown",
      "source": [
        "**Question No 1.] Write a Python Program to Find the Factorial of a Number?**"
      ],
      "metadata": {
        "id": "qqMcas8SSIvi"
      }
    },
    {
      "cell_type": "code",
      "execution_count": null,
      "metadata": {
        "id": "fmfuXvavRyu4"
      },
      "outputs": [],
      "source": [
        "def factorial(n) :\n",
        "  fact = 1 \n",
        "  for i in range (1,n+1) :\n",
        "    fact = fact * i\n",
        "  return fact\n",
        "    \n"
      ]
    },
    {
      "cell_type": "code",
      "source": [
        "factorial(5)"
      ],
      "metadata": {
        "colab": {
          "base_uri": "https://localhost:8080/"
        },
        "id": "efACWSuISpcW",
        "outputId": "8029dadb-7bdb-49be-b0f2-87ac66243d19"
      },
      "execution_count": null,
      "outputs": [
        {
          "output_type": "execute_result",
          "data": {
            "text/plain": [
              "120"
            ]
          },
          "metadata": {},
          "execution_count": 4
        }
      ]
    },
    {
      "cell_type": "markdown",
      "source": [
        "**Question No.2] Write a Python Program to Display the multiplication Table?**"
      ],
      "metadata": {
        "id": "1b8Nu8psR_U0"
      }
    },
    {
      "cell_type": "code",
      "source": [
        "n = int(input(\"Enter the number :\"))\n",
        "for i in range (1,11) :\n",
        " print(n , \"*\" , i , \"=\" , n*i)\n"
      ],
      "metadata": {
        "colab": {
          "base_uri": "https://localhost:8080/"
        },
        "id": "2iA5E7HRS5Nw",
        "outputId": "bbed8ef8-4d02-4e06-f400-e316f9005537"
      },
      "execution_count": null,
      "outputs": [
        {
          "output_type": "stream",
          "name": "stdout",
          "text": [
            "Enter the number :6\n",
            "6 * 1 = 6\n",
            "6 * 2 = 12\n",
            "6 * 3 = 18\n",
            "6 * 4 = 24\n",
            "6 * 5 = 30\n",
            "6 * 6 = 36\n",
            "6 * 7 = 42\n",
            "6 * 8 = 48\n",
            "6 * 9 = 54\n",
            "6 * 10 = 60\n"
          ]
        }
      ]
    },
    {
      "cell_type": "markdown",
      "source": [
        "**Question No 3.] Write a Python Program to Print the Fibonacci sequence?**"
      ],
      "metadata": {
        "id": "RpW_R3_7UZaG"
      }
    },
    {
      "cell_type": "code",
      "source": [
        "# 3. Write a Python Program to Print the Fibonacci sequence?\n",
        "# Fibonacci Sequence = 0, 1, 1, 2, 3, 5, 8, 13, 21, ….\n",
        "\n",
        "num = int(input(\"Enter the number : \"))\n",
        "n1 = 0\n",
        "n2 = 1 \n",
        "sum = 0 \n",
        "for i in range (0 , num) :\n",
        "\n",
        "  print(sum , \" \")\n",
        "  n1 = n2 \n",
        "  n2 = sum \n",
        "  sum = n1 + n2 "
      ],
      "metadata": {
        "colab": {
          "base_uri": "https://localhost:8080/"
        },
        "id": "VaG_8Xx_TQTa",
        "outputId": "5aa92ded-2ef6-4dae-aeab-9f41066ba1df"
      },
      "execution_count": 2,
      "outputs": [
        {
          "output_type": "stream",
          "name": "stdout",
          "text": [
            "Enter the number : 8\n",
            "0  \n",
            "1  \n",
            "1  \n",
            "2  \n",
            "3  \n",
            "5  \n",
            "8  \n",
            "13  \n"
          ]
        }
      ]
    },
    {
      "cell_type": "markdown",
      "source": [
        "**Question No.4] Write a Python Program to Check Armstrong Number?**"
      ],
      "metadata": {
        "id": "xlIPgT2Qh2lP"
      }
    },
    {
      "cell_type": "code",
      "source": [
        "num = input(\"Enter the number : \")\n",
        "sum = 0 \n",
        "n = len(num)\n",
        "for i in num :\n",
        "  new_num = int(i)\n",
        "  sum = sum + new_num**n\n",
        "\n",
        "if int(num) == sum :\n",
        "   print(num , \"is the armstrong number\")\n",
        "else :\n",
        "   print(num, \"is not armstrong number\")"
      ],
      "metadata": {
        "colab": {
          "base_uri": "https://localhost:8080/"
        },
        "id": "IWK1uDlwU3ZM",
        "outputId": "39fbbe8c-9be7-468a-b8b1-4bfe309c9794"
      },
      "execution_count": 3,
      "outputs": [
        {
          "output_type": "stream",
          "name": "stdout",
          "text": [
            "Enter the number : 372\n",
            "372 is not armstrong number\n"
          ]
        }
      ]
    },
    {
      "cell_type": "code",
      "source": [
        "num = input(\"Enter the number : \")\n",
        "sum = 0 \n",
        "n = len(num)\n",
        "for i in num :\n",
        "  new_num = int(i)\n",
        "  sum = sum + new_num**n\n",
        "\n",
        "if int(num) == sum :\n",
        "   print(num , \"is the armstrong number\")\n",
        "else :\n",
        "   print(num, \"is not armstrong number\")"
      ],
      "metadata": {
        "colab": {
          "base_uri": "https://localhost:8080/"
        },
        "id": "k7fauw5mhV2N",
        "outputId": "2d6f1205-43a8-4140-f9b9-4a8206840aa9"
      },
      "execution_count": 4,
      "outputs": [
        {
          "output_type": "stream",
          "name": "stdout",
          "text": [
            "Enter the number : 371\n",
            "371 is the armstrong number\n"
          ]
        }
      ]
    },
    {
      "cell_type": "code",
      "source": [
        "def Is_armstrong(n) :\n",
        "  if n > 0 :\n",
        "    length = len(str(n)) \n",
        "    sum = 0 \n",
        "    for i in str(n) :\n",
        "      new_num = int(i)\n",
        "      sum = sum + new_num ** length\n",
        "    if sum == int(n) :\n",
        "      return True \n",
        "    else :\n",
        "      return False"
      ],
      "metadata": {
        "id": "WviIOsIIguSW"
      },
      "execution_count": 16,
      "outputs": []
    },
    {
      "cell_type": "code",
      "source": [
        "Is_armstrong(371)"
      ],
      "metadata": {
        "colab": {
          "base_uri": "https://localhost:8080/"
        },
        "id": "QAcdvj3jhxWO",
        "outputId": "820ec4be-df1a-42b7-80db-2b83227c8a47"
      },
      "execution_count": 17,
      "outputs": [
        {
          "output_type": "execute_result",
          "data": {
            "text/plain": [
              "True"
            ]
          },
          "metadata": {},
          "execution_count": 17
        }
      ]
    },
    {
      "cell_type": "code",
      "source": [
        "Is_armstrong(3703)"
      ],
      "metadata": {
        "colab": {
          "base_uri": "https://localhost:8080/"
        },
        "id": "dpCxnWKWirt7",
        "outputId": "a9feabb0-018a-4faa-bf76-38c26328ab26"
      },
      "execution_count": 41,
      "outputs": [
        {
          "output_type": "execute_result",
          "data": {
            "text/plain": [
              "False"
            ]
          },
          "metadata": {},
          "execution_count": 41
        }
      ]
    },
    {
      "cell_type": "markdown",
      "source": [
        "**Question No 5.] Write a Python Program to Find Armstrong Number in an Interval?**"
      ],
      "metadata": {
        "id": "BDNGKpZ_sHLE"
      }
    },
    {
      "cell_type": "code",
      "source": [
        "num1 = int(input(\"Enter the number :\"))\n",
        "num2 = int(input(\"Enter the second number :\"))\n",
        "\n",
        "for i in range (num1 , num2+1) :\n",
        "  sum = 0 \n",
        "  n = len(str(i))\n",
        "  for j in str(i) :\n",
        "    new_num = int(j)\n",
        "    sum = sum + new_num ** n\n",
        "    if sum == i :\n",
        "      print(i , \"is the armstrong number\")\n",
        "    else :\n",
        "      None "
      ],
      "metadata": {
        "colab": {
          "base_uri": "https://localhost:8080/"
        },
        "id": "8mBK3cIXkB-E",
        "outputId": "fe22618a-4c87-4590-9c02-8d810403f050"
      },
      "execution_count": 44,
      "outputs": [
        {
          "output_type": "stream",
          "name": "stdout",
          "text": [
            "Enter the number :1\n",
            "Enter the second number :400\n",
            "1 is the armstrong number\n",
            "2 is the armstrong number\n",
            "3 is the armstrong number\n",
            "4 is the armstrong number\n",
            "5 is the armstrong number\n",
            "6 is the armstrong number\n",
            "7 is the armstrong number\n",
            "8 is the armstrong number\n",
            "9 is the armstrong number\n",
            "153 is the armstrong number\n",
            "370 is the armstrong number\n",
            "370 is the armstrong number\n",
            "371 is the armstrong number\n"
          ]
        }
      ]
    },
    {
      "cell_type": "markdown",
      "source": [
        "**question No 6.] Write a Python Program to Find the Sum of Natural Numbers?**"
      ],
      "metadata": {
        "id": "D80-AvF2sYY_"
      }
    },
    {
      "cell_type": "code",
      "source": [
        "sum = 0\n",
        "for i in range ( 1 , 11 ) :\n",
        "  sum = sum + i \n",
        "\n",
        "print('sum of natural number is ' , sum )"
      ],
      "metadata": {
        "colab": {
          "base_uri": "https://localhost:8080/"
        },
        "id": "BGWDcIoFlA6R",
        "outputId": "3a38e591-1d63-4e7e-e03b-e2ac78e40b25"
      },
      "execution_count": 47,
      "outputs": [
        {
          "output_type": "stream",
          "name": "stdout",
          "text": [
            "1\n",
            "2\n",
            "3\n",
            "4\n",
            "5\n",
            "6\n",
            "7\n",
            "8\n",
            "9\n",
            "10\n",
            "sum of natural number is  55\n"
          ]
        }
      ]
    },
    {
      "cell_type": "code",
      "source": [],
      "metadata": {
        "id": "SI38bNmXszEx"
      },
      "execution_count": null,
      "outputs": []
    }
  ]
}